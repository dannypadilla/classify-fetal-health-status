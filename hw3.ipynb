{
 "cells": [
  {
   "cell_type": "markdown",
   "metadata": {},
   "source": [
    "# Homework 3\n",
    "---"
   ]
  },
  {
   "cell_type": "markdown",
   "metadata": {},
   "source": [
    "*imports*"
   ]
  },
  {
   "cell_type": "code",
   "execution_count": 1,
   "metadata": {},
   "outputs": [],
   "source": [
    "import numpy as np\n",
    "import pandas as pd\n",
    "\n",
    "import matplotlib.pyplot as plt\n",
    "import matplotlib.image as mpimg\n",
    "\n",
    "%matplotlib inline"
   ]
  },
  {
   "cell_type": "markdown",
   "metadata": {},
   "source": [
    "\n",
    "## Problem 1:\n",
    "\n",
    "### Diagnosis of Fetal Cardio-Vascular Disease from Cardiotocography using ANN in SciKitLearn\n",
    "\n",
    "---"
   ]
  },
  {
   "cell_type": "markdown",
   "metadata": {},
   "source": [
    "#### a.\n",
    "  * In this problem, I selected a new medical dataset from UCI ML repository. The dataset includes 2126 fetal cardiotocograms (CTGs) collected in the Biomedical Engineering Institute in Porto, Portugal.\n",
    "  \n",
    "  The dataset includes **21 feature elements**, and the output (NSP) has **3 classes**:\n",
    "  \n",
    "  `1: Normal; 2: Suspect; 3: Pathologic`.\n",
    "  \n",
    "  For more info, you can visit: https://archive.ics.uci.edu/ml/datasets/Cardiotocography You can either download the original raw data from the above link OR download the clean version of the data as a csv file from CSNS in the HW package (“CTG_clean.csv”).\n",
    "  \n",
    "  The goal is to build an Artificial Neural Network that can diagnose (classify) the fetal health status. The last column (NSP) in the dataset is the label: NSP - fetal state class code (`1=normal; 2=suspect; 3=pathologic`), and the first 21 column are the features. To see what each feature represents, take a look at the dataset info link above."
   ]
  },
  {
   "cell_type": "code",
   "execution_count": null,
   "metadata": {},
   "outputs": [],
   "source": []
  },
  {
   "cell_type": "code",
   "execution_count": null,
   "metadata": {},
   "outputs": [],
   "source": []
  },
  {
   "cell_type": "markdown",
   "metadata": {},
   "source": [
    "#### b.\n",
    "\n",
    "  * Use `sklearn.preprocessing.scale` function to normalize the features."
   ]
  },
  {
   "cell_type": "code",
   "execution_count": null,
   "metadata": {},
   "outputs": [],
   "source": []
  },
  {
   "cell_type": "code",
   "execution_count": null,
   "metadata": {},
   "outputs": [],
   "source": []
  },
  {
   "cell_type": "markdown",
   "metadata": {},
   "source": [
    "#### c.\n",
    "\n",
    "  * Design an ANN with one hidden layer with 30 neurons to predict the fetal’s health status. For your ANN, Use `random_state=1, learning_rate_init = 0.02, solver='adam', alpha=1, verbose=True, activation='logistic'`. Use 10-fold Cross-Validation to evaluate your model. Make sure to add “`verbose=True`” to see the training process. Then, Test your ANN on testing set, and calculate and report the accuracy."
   ]
  },
  {
   "cell_type": "code",
   "execution_count": null,
   "metadata": {},
   "outputs": [],
   "source": []
  },
  {
   "cell_type": "code",
   "execution_count": null,
   "metadata": {},
   "outputs": [],
   "source": []
  },
  {
   "cell_type": "markdown",
   "metadata": {},
   "source": [
    "d.\n",
    "  * Fix the random state for reproducibility:\n",
    "  \n",
    "  `seed = 1, np.random.seed(seed)`.\n",
    "  \n",
    "  Now, use `GridSearchCV` to find the best number of neurons for your 1-hidden layer network.\n",
    "  \n",
    "  Search in the `range` of (5-250) with the step size of 5 for the number of neurons (i.e. 5 neurons, 10 neurons, 15 neurons, ... , 245 neurons, 250 neurons).\n",
    "  \n",
    "  As for other parameters, use the same arguments as part (c) for your network.\n",
    "  \n",
    "  What is the best accuracy, and best number of neurons?"
   ]
  },
  {
   "cell_type": "code",
   "execution_count": null,
   "metadata": {},
   "outputs": [],
   "source": []
  },
  {
   "cell_type": "code",
   "execution_count": null,
   "metadata": {},
   "outputs": [],
   "source": []
  },
  {
   "cell_type": "markdown",
   "metadata": {},
   "source": [
    "## Problem 2:\n",
    "\n",
    "### Face Recognition Using SVM\n",
    "\n",
    "---"
   ]
  },
  {
   "cell_type": "code",
   "execution_count": null,
   "metadata": {},
   "outputs": [],
   "source": []
  }
 ],
 "metadata": {
  "kernelspec": {
   "display_name": "Python 3",
   "language": "python",
   "name": "python3"
  },
  "language_info": {
   "codemirror_mode": {
    "name": "ipython",
    "version": 3
   },
   "file_extension": ".py",
   "mimetype": "text/x-python",
   "name": "python",
   "nbconvert_exporter": "python",
   "pygments_lexer": "ipython3",
   "version": "3.7.3"
  }
 },
 "nbformat": 4,
 "nbformat_minor": 2
}
